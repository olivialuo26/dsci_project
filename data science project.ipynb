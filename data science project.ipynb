{
 "cells": [
  {
   "cell_type": "markdown",
   "id": "026e644d-ebc8-497b-8b62-c3fecf86e444",
   "metadata": {},
   "source": [
    "**Introduction**\n",
    "\n",
    "Video games makes up a major part of most people's entertainment time, attracting players of all ages and backgrounds. For researchers and developers, understanding how different players engage with games can inform better design decisions and improve marketing strategies. In this project, I will work with data collected from a Minecraft server managed by a UBC Computer Science research group led by Frank Wood. This server tracks player activity to support further research in topics such as player behavior. My focus is to explore whether player age and game experience can help predict who is likely to be a high contributor, someone who plays for more than one hour, so that recruitment efforts can be more effective and data quality can be maximized. \n",
    "\n",
    "Question: How does age and game experience predict whether a player will be a high contributor (i.e., someone who plays more than one hour)?\n",
    "\n",
    "Players who contribute more than an hour of gameplay provide more data, which is especially useful for analyzing in-game behavior and training models. By understanding which characteristics are linked to longer playtime, the research team can focus recruitment on players who are more likely to generate meaningful data, helping improve the efficiency and impact of the project.\n",
    "\n",
    "Dataset description: \n",
    "The dataset contains two files: \n",
    "1. players.csv file: contain 196 players and 7 variables\n",
    "+ experience: Experience level of the player (Categorical: Pro, Veteran, Regular, Amateur, Beginner)\n",
    "+ subscribe: Whether the player subscribed to a newsletter (Logical: True or False)\n",
    "+ hashedEmail: An unique identifier for each player, used to protect privacy (Categorical)\n",
    "+ played_hours: Total number of hours a player played (Character)\n",
    "+ name: Player's username (Character)\n",
    "+ gender: Player's self-identified gender (Categorical: Male, Female, Non-binary, etc)\n",
    "+ age: Age of the player in years (Numeric)\n",
    "\n",
    "2. sessions.csv file: Recording of 1535 game sessions and 5 variables\n",
    "+ hasedEmail: An unique identifier for each player, used to protect privacy (Categorical)\n",
    "+ start_time / end_time: Start and end timestamps of game sessions\n",
    "+ original_start_time / original_end_time: Unix timestamps\n",
    "\n",
    "Potential issues: \n",
    "Several variables in the dataset, such as experience level, are self-reported, which introduces potential issues like inaccuracy, subjectivity, and sampling bias. Players may overestimate their experience, and categories like experience level are subjective with no set definitions. These factors can introduce reduce the predictive accuracy of models, especially when trying to identify high contributors. Careful data cleaning and grouping of sparse categories may help mitigate these limitations.\n",
    "\n",
    "To answer the question, I will use the players dataset because it contains all the necessary information such as the player characteristics. \n",
    "\n",
    "player csv link https://raw.githubusercontent.com/ashleyan1207/DSCI-100-Project/refs/heads/main/players.csv\n",
    "\n",
    "sessions csv link https://raw.githubusercontent.com/ashleyan1207/DSCI-100-Project/refs/heads/main/sessions.csv"
   ]
  },
  {
   "cell_type": "markdown",
   "id": "9ca1b5f0-d17e-4e4f-bb77-941253fb1f77",
   "metadata": {},
   "source": [
    "**Methods and Results**"
   ]
  },
  {
   "cell_type": "markdown",
   "id": "a02d8065-a0c3-45a9-b42f-f40a8c405ccb",
   "metadata": {},
   "source": [
    "*Loading Data and Wrangling / Cleaning Data*\n",
    "\n",
    "For this analysis, players are categorized into two contribution levels based on total playtime: High contributors (≥1 hours), who provided most of gameplay data, and low contributors (<1 hour), who contributed less. the one hour threshold was chosen because longer playtime is more likely to produce sufficient data for analysis and model traning. This threshold is further supported by the distribution of playtime, which shows that most players either play for below an hour or well over one hour, making it a natural dividing point for classification. Simplifying the outcome variable into two categories support the use of straightforward classification models, improving interpretability and reducing complexity during model development. \n",
    "\n",
    "To do this, I loaded the necessary libraries and cleaned the data. The experience variable is converted into a factor for further classification purposes. A new column, contributor_type, is created to categorize players based on total playtime, aligning with the research question. Finally, rows with missing values are removed to ensure clean and reliable data for analysis. "
   ]
  },
  {
   "cell_type": "code",
   "execution_count": 6,
   "id": "e9e109e0-1fd6-4c35-93e1-1330ae5a6332",
   "metadata": {},
   "outputs": [
    {
     "name": "stderr",
     "output_type": "stream",
     "text": [
      "\u001b[1mRows: \u001b[22m\u001b[34m196\u001b[39m \u001b[1mColumns: \u001b[22m\u001b[34m7\u001b[39m\n",
      "\u001b[36m──\u001b[39m \u001b[1mColumn specification\u001b[22m \u001b[36m────────────────────────────────────────────────────────\u001b[39m\n",
      "\u001b[1mDelimiter:\u001b[22m \",\"\n",
      "\u001b[31mchr\u001b[39m (4): experience, hashedEmail, name, gender\n",
      "\u001b[32mdbl\u001b[39m (2): played_hours, Age\n",
      "\u001b[33mlgl\u001b[39m (1): subscribe\n",
      "\n",
      "\u001b[36mℹ\u001b[39m Use `spec()` to retrieve the full column specification for this data.\n",
      "\u001b[36mℹ\u001b[39m Specify the column types or set `show_col_types = FALSE` to quiet this message.\n",
      "\u001b[1mRows: \u001b[22m\u001b[34m1535\u001b[39m \u001b[1mColumns: \u001b[22m\u001b[34m5\u001b[39m\n",
      "\u001b[36m──\u001b[39m \u001b[1mColumn specification\u001b[22m \u001b[36m────────────────────────────────────────────────────────\u001b[39m\n",
      "\u001b[1mDelimiter:\u001b[22m \",\"\n",
      "\u001b[31mchr\u001b[39m (3): hashedEmail, start_time, end_time\n",
      "\u001b[32mdbl\u001b[39m (2): original_start_time, original_end_time\n",
      "\n",
      "\u001b[36mℹ\u001b[39m Use `spec()` to retrieve the full column specification for this data.\n",
      "\u001b[36mℹ\u001b[39m Specify the column types or set `show_col_types = FALSE` to quiet this message.\n"
     ]
    },
    {
     "name": "stdout",
     "output_type": "stream",
     "text": [
      "Figure 1: Mutated Dataset"
     ]
    },
    {
     "data": {
      "text/html": [
       "<table class=\"dataframe\">\n",
       "<caption>A tibble: 194 × 8</caption>\n",
       "<thead>\n",
       "\t<tr><th scope=col>experience</th><th scope=col>subscribe</th><th scope=col>hashedEmail</th><th scope=col>played_hours</th><th scope=col>name</th><th scope=col>gender</th><th scope=col>Age</th><th scope=col>contributor_type</th></tr>\n",
       "\t<tr><th scope=col>&lt;fct&gt;</th><th scope=col>&lt;lgl&gt;</th><th scope=col>&lt;chr&gt;</th><th scope=col>&lt;dbl&gt;</th><th scope=col>&lt;chr&gt;</th><th scope=col>&lt;chr&gt;</th><th scope=col>&lt;dbl&gt;</th><th scope=col>&lt;fct&gt;</th></tr>\n",
       "</thead>\n",
       "<tbody>\n",
       "\t<tr><td>Pro    </td><td> TRUE</td><td>f6daba428a5e19a3d47574858c13550499be23603422e6a0ee9728f8b53e192d</td><td>30.3</td><td>Morgan   </td><td>Male</td><td> 9</td><td>High</td></tr>\n",
       "\t<tr><td>Veteran</td><td> TRUE</td><td>f3c813577c458ba0dfef80996f8f32c93b6e8af1fa939732842f2312358a88e9</td><td> 3.8</td><td>Christian</td><td>Male</td><td>17</td><td>High</td></tr>\n",
       "\t<tr><td>Veteran</td><td>FALSE</td><td>b674dd7ee0d24096d1c019615ce4d12b20fcbff12d79d3c5a9d2118eb7ccbb28</td><td> 0.0</td><td>Blake    </td><td>Male</td><td>17</td><td>Low </td></tr>\n",
       "\t<tr><td>⋮</td><td>⋮</td><td>⋮</td><td>⋮</td><td>⋮</td><td>⋮</td><td>⋮</td><td>⋮</td></tr>\n",
       "\t<tr><td>Amateur</td><td>FALSE</td><td>d572f391d452b76ea2d7e5e53a3d38bfd7499c7399db299bd4fedb06a46ad5bb</td><td>0.0</td><td>Dylan </td><td>Prefer not to say</td><td>17</td><td>Low </td></tr>\n",
       "\t<tr><td>Amateur</td><td>FALSE</td><td>f19e136ddde68f365afc860c725ccff54307dedd13968e896a9f890c40aea436</td><td>2.3</td><td>Harlow</td><td>Male             </td><td>17</td><td>High</td></tr>\n",
       "</tbody>\n",
       "</table>\n"
      ],
      "text/latex": [
       "A tibble: 194 × 8\n",
       "\\begin{tabular}{llllllll}\n",
       " experience & subscribe & hashedEmail & played\\_hours & name & gender & Age & contributor\\_type\\\\\n",
       " <fct> & <lgl> & <chr> & <dbl> & <chr> & <chr> & <dbl> & <fct>\\\\\n",
       "\\hline\n",
       "\t Pro     &  TRUE & f6daba428a5e19a3d47574858c13550499be23603422e6a0ee9728f8b53e192d & 30.3 & Morgan    & Male &  9 & High\\\\\n",
       "\t Veteran &  TRUE & f3c813577c458ba0dfef80996f8f32c93b6e8af1fa939732842f2312358a88e9 &  3.8 & Christian & Male & 17 & High\\\\\n",
       "\t Veteran & FALSE & b674dd7ee0d24096d1c019615ce4d12b20fcbff12d79d3c5a9d2118eb7ccbb28 &  0.0 & Blake     & Male & 17 & Low \\\\\n",
       "\t ⋮ & ⋮ & ⋮ & ⋮ & ⋮ & ⋮ & ⋮ & ⋮\\\\\n",
       "\t Amateur & FALSE & d572f391d452b76ea2d7e5e53a3d38bfd7499c7399db299bd4fedb06a46ad5bb & 0.0 & Dylan  & Prefer not to say & 17 & Low \\\\\n",
       "\t Amateur & FALSE & f19e136ddde68f365afc860c725ccff54307dedd13968e896a9f890c40aea436 & 2.3 & Harlow & Male              & 17 & High\\\\\n",
       "\\end{tabular}\n"
      ],
      "text/markdown": [
       "\n",
       "A tibble: 194 × 8\n",
       "\n",
       "| experience &lt;fct&gt; | subscribe &lt;lgl&gt; | hashedEmail &lt;chr&gt; | played_hours &lt;dbl&gt; | name &lt;chr&gt; | gender &lt;chr&gt; | Age &lt;dbl&gt; | contributor_type &lt;fct&gt; |\n",
       "|---|---|---|---|---|---|---|---|\n",
       "| Pro     |  TRUE | f6daba428a5e19a3d47574858c13550499be23603422e6a0ee9728f8b53e192d | 30.3 | Morgan    | Male |  9 | High |\n",
       "| Veteran |  TRUE | f3c813577c458ba0dfef80996f8f32c93b6e8af1fa939732842f2312358a88e9 |  3.8 | Christian | Male | 17 | High |\n",
       "| Veteran | FALSE | b674dd7ee0d24096d1c019615ce4d12b20fcbff12d79d3c5a9d2118eb7ccbb28 |  0.0 | Blake     | Male | 17 | Low  |\n",
       "| ⋮ | ⋮ | ⋮ | ⋮ | ⋮ | ⋮ | ⋮ | ⋮ |\n",
       "| Amateur | FALSE | d572f391d452b76ea2d7e5e53a3d38bfd7499c7399db299bd4fedb06a46ad5bb | 0.0 | Dylan  | Prefer not to say | 17 | Low  |\n",
       "| Amateur | FALSE | f19e136ddde68f365afc860c725ccff54307dedd13968e896a9f890c40aea436 | 2.3 | Harlow | Male              | 17 | High |\n",
       "\n"
      ],
      "text/plain": [
       "    experience subscribe\n",
       "1   Pro         TRUE    \n",
       "2   Veteran     TRUE    \n",
       "3   Veteran    FALSE    \n",
       "⋮   ⋮          ⋮        \n",
       "193 Amateur    FALSE    \n",
       "194 Amateur    FALSE    \n",
       "    hashedEmail                                                     \n",
       "1   f6daba428a5e19a3d47574858c13550499be23603422e6a0ee9728f8b53e192d\n",
       "2   f3c813577c458ba0dfef80996f8f32c93b6e8af1fa939732842f2312358a88e9\n",
       "3   b674dd7ee0d24096d1c019615ce4d12b20fcbff12d79d3c5a9d2118eb7ccbb28\n",
       "⋮   ⋮                                                               \n",
       "193 d572f391d452b76ea2d7e5e53a3d38bfd7499c7399db299bd4fedb06a46ad5bb\n",
       "194 f19e136ddde68f365afc860c725ccff54307dedd13968e896a9f890c40aea436\n",
       "    played_hours name      gender            Age contributor_type\n",
       "1   30.3         Morgan    Male               9  High            \n",
       "2    3.8         Christian Male              17  High            \n",
       "3    0.0         Blake     Male              17  Low             \n",
       "⋮   ⋮            ⋮         ⋮                 ⋮   ⋮               \n",
       "193 0.0          Dylan     Prefer not to say 17  Low             \n",
       "194 2.3          Harlow    Male              17  High            "
      ]
     },
     "metadata": {},
     "output_type": "display_data"
    }
   ],
   "source": [
    "library(tidyverse)\n",
    "library(tidymodels)\n",
    "library(dplyr)\n",
    "library(themis)\n",
    "library(cowplot)\n",
    "options(repr.matrix.max.rows = 5)\n",
    "\n",
    "players_url <- \"https://raw.githubusercontent.com/ashleyan1207/DSCI-100-Project/refs/heads/main/players.csv\"\n",
    "sessions_url <- \"https://raw.githubusercontent.com/ashleyan1207/DSCI-100-Project/refs/heads/main/sessions.csv\"\n",
    "\n",
    "players <- read_csv (players_url) \n",
    "sessions <- read_csv (sessions_url) \n",
    "\n",
    "players <- players |> \n",
    "            mutate(experience = factor (experience, levels = c(\"Beginner\", \"Amateur\", \"Regular\", \"Pro\", \"Veteran\")), \n",
    "            contributor_type = case_when(played_hours >= 1 ~ \"High\", \n",
    "                                         played_hours < 1 ~ \"Low\")) |> \n",
    "            mutate(contributor_type = factor (contributor_type)) |> \n",
    "            drop_na ()\n",
    "cat(\"Figure 1: Mutated Dataset\") \n",
    "players"
   ]
  },
  {
   "cell_type": "markdown",
   "id": "c33170fa-45ec-423f-a1db-fc8d259fa54c",
   "metadata": {},
   "source": [
    "*Summarizing Dataset*\n",
    "\n",
    "I summarized the dataset by calculating the average playtime, average age, and player count for each experience level. Then, I separately summarized the average age and count of players by contribution type to explore potential patterns in engagement. \n",
    "\n",
    "From the summarized dataset, we can deduce that Regular players have the highest average playtime (~18.7 hours), suggesting strong engagement, although majority of players seem to have an Amateur experience level (Fig 2). This suggests that self-reported experience doesn't always reflect actual engagement. Moreover, there is a large imbalance between High (42 players) and Low contributors (152 players), indicating that when performing classification prediction, scaling of the data is needed. "
   ]
  },
  {
   "cell_type": "code",
   "execution_count": 2,
   "id": "a25c30ed-ced6-48a0-abe5-43436c7e49f5",
   "metadata": {},
   "outputs": [
    {
     "name": "stdout",
     "output_type": "stream",
     "text": [
      "Figure 2: Summarized Player Dataset"
     ]
    },
    {
     "data": {
      "text/html": [
       "<table class=\"dataframe\">\n",
       "<caption>A tibble: 5 × 4</caption>\n",
       "<thead>\n",
       "\t<tr><th scope=col>experience</th><th scope=col>average_played_hours</th><th scope=col>average_age</th><th scope=col>count</th></tr>\n",
       "\t<tr><th scope=col>&lt;fct&gt;</th><th scope=col>&lt;dbl&gt;</th><th scope=col>&lt;dbl&gt;</th><th scope=col>&lt;int&gt;</th></tr>\n",
       "</thead>\n",
       "<tbody>\n",
       "\t<tr><td>Beginner</td><td> 1.2485714</td><td>21.65714</td><td>35</td></tr>\n",
       "\t<tr><td>Amateur </td><td> 6.0174603</td><td>20.25397</td><td>63</td></tr>\n",
       "\t<tr><td>Regular </td><td>18.7257143</td><td>20.60000</td><td>35</td></tr>\n",
       "\t<tr><td>Pro     </td><td> 2.7846154</td><td>16.92308</td><td>13</td></tr>\n",
       "\t<tr><td>Veteran </td><td> 0.6479167</td><td>20.95833</td><td>48</td></tr>\n",
       "</tbody>\n",
       "</table>\n"
      ],
      "text/latex": [
       "A tibble: 5 × 4\n",
       "\\begin{tabular}{llll}\n",
       " experience & average\\_played\\_hours & average\\_age & count\\\\\n",
       " <fct> & <dbl> & <dbl> & <int>\\\\\n",
       "\\hline\n",
       "\t Beginner &  1.2485714 & 21.65714 & 35\\\\\n",
       "\t Amateur  &  6.0174603 & 20.25397 & 63\\\\\n",
       "\t Regular  & 18.7257143 & 20.60000 & 35\\\\\n",
       "\t Pro      &  2.7846154 & 16.92308 & 13\\\\\n",
       "\t Veteran  &  0.6479167 & 20.95833 & 48\\\\\n",
       "\\end{tabular}\n"
      ],
      "text/markdown": [
       "\n",
       "A tibble: 5 × 4\n",
       "\n",
       "| experience &lt;fct&gt; | average_played_hours &lt;dbl&gt; | average_age &lt;dbl&gt; | count &lt;int&gt; |\n",
       "|---|---|---|---|\n",
       "| Beginner |  1.2485714 | 21.65714 | 35 |\n",
       "| Amateur  |  6.0174603 | 20.25397 | 63 |\n",
       "| Regular  | 18.7257143 | 20.60000 | 35 |\n",
       "| Pro      |  2.7846154 | 16.92308 | 13 |\n",
       "| Veteran  |  0.6479167 | 20.95833 | 48 |\n",
       "\n"
      ],
      "text/plain": [
       "  experience average_played_hours average_age count\n",
       "1 Beginner    1.2485714           21.65714    35   \n",
       "2 Amateur     6.0174603           20.25397    63   \n",
       "3 Regular    18.7257143           20.60000    35   \n",
       "4 Pro         2.7846154           16.92308    13   \n",
       "5 Veteran     0.6479167           20.95833    48   "
      ]
     },
     "metadata": {},
     "output_type": "display_data"
    },
    {
     "name": "stdout",
     "output_type": "stream",
     "text": [
      "Figure 3: Summarized Contributor Information"
     ]
    },
    {
     "data": {
      "text/html": [
       "<table class=\"dataframe\">\n",
       "<caption>A tibble: 2 × 3</caption>\n",
       "<thead>\n",
       "\t<tr><th scope=col>contributor_type</th><th scope=col>count</th><th scope=col>average_age</th></tr>\n",
       "\t<tr><th scope=col>&lt;fct&gt;</th><th scope=col>&lt;int&gt;</th><th scope=col>&lt;dbl&gt;</th></tr>\n",
       "</thead>\n",
       "<tbody>\n",
       "\t<tr><td>High</td><td> 42</td><td>20.30952</td></tr>\n",
       "\t<tr><td>Low </td><td>152</td><td>20.57895</td></tr>\n",
       "</tbody>\n",
       "</table>\n"
      ],
      "text/latex": [
       "A tibble: 2 × 3\n",
       "\\begin{tabular}{lll}\n",
       " contributor\\_type & count & average\\_age\\\\\n",
       " <fct> & <int> & <dbl>\\\\\n",
       "\\hline\n",
       "\t High &  42 & 20.30952\\\\\n",
       "\t Low  & 152 & 20.57895\\\\\n",
       "\\end{tabular}\n"
      ],
      "text/markdown": [
       "\n",
       "A tibble: 2 × 3\n",
       "\n",
       "| contributor_type &lt;fct&gt; | count &lt;int&gt; | average_age &lt;dbl&gt; |\n",
       "|---|---|---|\n",
       "| High |  42 | 20.30952 |\n",
       "| Low  | 152 | 20.57895 |\n",
       "\n"
      ],
      "text/plain": [
       "  contributor_type count average_age\n",
       "1 High              42   20.30952   \n",
       "2 Low              152   20.57895   "
      ]
     },
     "metadata": {},
     "output_type": "display_data"
    }
   ],
   "source": [
    "avg_experience <- players |> \n",
    "            group_by(experience) |> \n",
    "            summarize(average_played_hours = mean(played_hours, na.rm = TRUE), \n",
    "                      average_age = mean(Age), \n",
    "                      count = n())\n",
    "\n",
    "contributors <- players |> \n",
    "            group_by(contributor_type) |> \n",
    "            summarize(count = n(), average_age = mean(Age)) \n",
    "\n",
    "cat(\"Figure 2: Summarized Player Dataset\") \n",
    "avg_experience\n",
    "cat(\"Figure 3: Summarized Contributor Information\") \n",
    "contributors "
   ]
  },
  {
   "cell_type": "code",
   "execution_count": null,
   "id": "535ecee3-2bef-4de3-a902-6b96b489b161",
   "metadata": {},
   "outputs": [],
   "source": []
  }
 ],
 "metadata": {
  "kernelspec": {
   "display_name": "R",
   "language": "R",
   "name": "ir"
  },
  "language_info": {
   "codemirror_mode": "r",
   "file_extension": ".r",
   "mimetype": "text/x-r-source",
   "name": "R",
   "pygments_lexer": "r",
   "version": "4.3.3"
  }
 },
 "nbformat": 4,
 "nbformat_minor": 5
}
